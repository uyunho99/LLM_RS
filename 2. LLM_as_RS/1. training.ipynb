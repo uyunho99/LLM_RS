{
 "cells": [
  {
   "cell_type": "code",
   "execution_count": null,
   "metadata": {},
   "outputs": [],
   "source": [
    "# 모델 훈련 전 확인해야 할 사항\n",
    "\n",
    "## Huggingface에서 LLaMA 모델 권한 신청 이후, 권한 신청한 계정의 토큰을 [your token]에 입력\n",
    "## 데이터 위치, 모델 위치 등은 사용자 환경에 맞게 수정"
   ]
  },
  {
   "cell_type": "code",
   "execution_count": null,
   "metadata": {},
   "outputs": [],
   "source": [
    "!python llama3_rs.py"
   ]
  }
 ],
 "metadata": {
  "language_info": {
   "name": "python"
  }
 },
 "nbformat": 4,
 "nbformat_minor": 2
}
