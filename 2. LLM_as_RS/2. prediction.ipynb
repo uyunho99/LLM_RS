{
 "cells": [
  {
   "cell_type": "code",
   "execution_count": null,
   "metadata": {},
   "outputs": [],
   "source": [
    "# 모델 예측 전 확인해야 할 사항\n",
    "\n",
    "# 모델 GPU 성능에 맞춰서 batch_size, new_prompt_1의 numb을 조정해야 함"
   ]
  },
  {
   "cell_type": "code",
   "execution_count": null,
   "metadata": {},
   "outputs": [],
   "source": [
    "!python prediction.py"
   ]
  }
 ],
 "metadata": {
  "language_info": {
   "name": "python"
  }
 },
 "nbformat": 4,
 "nbformat_minor": 2
}
