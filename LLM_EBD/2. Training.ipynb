{
 "cells": [
  {
   "cell_type": "code",
   "execution_count": null,
   "metadata": {},
   "outputs": [],
   "source": [
    "# 모델 훈련 전 확인해야 할 사항\n",
    "\n",
    "# model/_abstract_model.py\n",
    "\n",
    "## 1. self.embedding_vec_dict에 임베딩 벡터 위치와 일치하는지 확인\n",
    "\n",
    "\n",
    "# main.py\n",
    "\n",
    "## 1. 데이터 위치: data_dir, data_name 지정\n",
    "## 2. 모델 저장 이름: train_name 지정\n",
    "## 3. 임베딩 벡터 크기: hidden_size와 일치하는지 확인\n",
    "\n",
    "# trainers.py\n",
    "\n",
    "## 1. cuda gpu 사용해서 훈련할 것인지 아닌지 확인"
   ]
  },
  {
   "cell_type": "code",
   "execution_count": null,
   "metadata": {},
   "outputs": [],
   "source": [
    "!python main.py"
   ]
  }
 ],
 "metadata": {
  "language_info": {
   "name": "python"
  }
 },
 "nbformat": 4,
 "nbformat_minor": 2
}
